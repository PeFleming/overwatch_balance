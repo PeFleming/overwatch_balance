{
 "cells": [
  {
   "cell_type": "code",
   "execution_count": 3,
   "metadata": {},
   "outputs": [],
   "source": [
    "import pandas as pd"
   ]
  },
  {
   "cell_type": "code",
   "execution_count": 4,
   "metadata": {},
   "outputs": [],
   "source": [
    "po_data = pd.read_csv(r'data\\phs_2019\\phs_2019_playoffs.csv')\n",
    "map_data = pd.read_csv(r'data\\match_map_stats.csv')"
   ]
  },
  {
   "cell_type": "code",
   "execution_count": 5,
   "metadata": {},
   "outputs": [],
   "source": [
    "data = po_data.merge(map_data, on = 'match_id')"
   ]
  },
  {
   "cell_type": "code",
   "execution_count": 6,
   "metadata": {},
   "outputs": [
    {
     "name": "stdout",
     "output_type": "stream",
     "text": [
      "<class 'pandas.core.frame.DataFrame'>\n",
      "Int64Index: 1660890 entries, 0 to 1660889\n",
      "Data columns (total 34 columns):\n",
      " #   Column                        Non-Null Count    Dtype  \n",
      "---  ------                        --------------    -----  \n",
      " 0   start_time                    1660890 non-null  object \n",
      " 1   match_id                      1660890 non-null  int64  \n",
      " 2   stage_x                       1660890 non-null  object \n",
      " 3   map_type                      1660890 non-null  object \n",
      " 4   map_name_x                    1660890 non-null  object \n",
      " 5   player                        1660890 non-null  object \n",
      " 6   team                          1660890 non-null  object \n",
      " 7   stat_name                     1660890 non-null  object \n",
      " 8   hero                          1660890 non-null  object \n",
      " 9   stat_amount                   1660890 non-null  float64\n",
      " 10  round_start_time              1660890 non-null  object \n",
      " 11  round_end_time                1660890 non-null  object \n",
      " 12  stage_y                       1660890 non-null  object \n",
      " 13  game_number                   1660890 non-null  int64  \n",
      " 14  match_winner                  1660890 non-null  object \n",
      " 15  map_winner                    1660890 non-null  object \n",
      " 16  map_loser                     1660890 non-null  object \n",
      " 17  map_name_y                    1660890 non-null  object \n",
      " 18  map_round                     1660890 non-null  int64  \n",
      " 19  winning_team_final_map_score  1660890 non-null  int64  \n",
      " 20  losing_team_final_map_score   1660890 non-null  int64  \n",
      " 21  control_round_name            487484 non-null   object \n",
      " 22  attacker                      1660890 non-null  object \n",
      " 23  defender                      1660890 non-null  object \n",
      " 24  team_one_name                 1660890 non-null  object \n",
      " 25  team_two_name                 1660890 non-null  object \n",
      " 26  attacker_payload_distance     1660890 non-null  float64\n",
      " 27  defender_payload_distance     1660890 non-null  float64\n",
      " 28  attacker_time_banked          1660890 non-null  float64\n",
      " 29  defender_time_banked          1660890 non-null  float64\n",
      " 30  attacker_control_perecent     487484 non-null   float64\n",
      " 31  defender_control_perecent     487484 non-null   float64\n",
      " 32  attacker_round_end_score      1660890 non-null  int64  \n",
      " 33  defender_round_end_score      1660890 non-null  int64  \n",
      "dtypes: float64(7), int64(7), object(20)\n",
      "memory usage: 443.5+ MB\n"
     ]
    }
   ],
   "source": [
    "data.info()"
   ]
  },
  {
   "cell_type": "code",
   "execution_count": 7,
   "metadata": {
    "scrolled": false
   },
   "outputs": [
    {
     "data": {
      "text/plain": [
       "0    Guangzhou Charge\n",
       "1    Guangzhou Charge\n",
       "2    Guangzhou Charge\n",
       "3    Guangzhou Charge\n",
       "4    Guangzhou Charge\n",
       "Name: match_winner, dtype: object"
      ]
     },
     "execution_count": 7,
     "metadata": {},
     "output_type": "execute_result"
    }
   ],
   "source": [
    "data['match_winner'].head()"
   ]
  },
  {
   "cell_type": "code",
   "execution_count": 28,
   "metadata": {},
   "outputs": [
    {
     "data": {
      "text/html": [
       "<div>\n",
       "<style scoped>\n",
       "    .dataframe tbody tr th:only-of-type {\n",
       "        vertical-align: middle;\n",
       "    }\n",
       "\n",
       "    .dataframe tbody tr th {\n",
       "        vertical-align: top;\n",
       "    }\n",
       "\n",
       "    .dataframe thead th {\n",
       "        text-align: right;\n",
       "    }\n",
       "</style>\n",
       "<table border=\"1\" class=\"dataframe\">\n",
       "  <thead>\n",
       "    <tr style=\"text-align: right;\">\n",
       "      <th></th>\n",
       "      <th>hero</th>\n",
       "      <th>stat_name</th>\n",
       "      <th>stat_amount</th>\n",
       "      <th>team</th>\n",
       "      <th>map_winner</th>\n",
       "      <th>map_loser</th>\n",
       "    </tr>\n",
       "  </thead>\n",
       "  <tbody>\n",
       "    <tr>\n",
       "      <th>0</th>\n",
       "      <td>All Heroes</td>\n",
       "      <td>All Damage Done</td>\n",
       "      <td>19059.67027</td>\n",
       "      <td>Chengdu Hunters</td>\n",
       "      <td>Guangzhou Charge</td>\n",
       "      <td>Chengdu Hunters</td>\n",
       "    </tr>\n",
       "    <tr>\n",
       "      <th>1</th>\n",
       "      <td>All Heroes</td>\n",
       "      <td>All Damage Done</td>\n",
       "      <td>19059.67027</td>\n",
       "      <td>Chengdu Hunters</td>\n",
       "      <td>Guangzhou Charge</td>\n",
       "      <td>Chengdu Hunters</td>\n",
       "    </tr>\n",
       "    <tr>\n",
       "      <th>2</th>\n",
       "      <td>All Heroes</td>\n",
       "      <td>All Damage Done</td>\n",
       "      <td>19059.67027</td>\n",
       "      <td>Chengdu Hunters</td>\n",
       "      <td>Guangzhou Charge</td>\n",
       "      <td>Chengdu Hunters</td>\n",
       "    </tr>\n",
       "    <tr>\n",
       "      <th>3</th>\n",
       "      <td>All Heroes</td>\n",
       "      <td>All Damage Done</td>\n",
       "      <td>19059.67027</td>\n",
       "      <td>Chengdu Hunters</td>\n",
       "      <td>Guangzhou Charge</td>\n",
       "      <td>Chengdu Hunters</td>\n",
       "    </tr>\n",
       "    <tr>\n",
       "      <th>4</th>\n",
       "      <td>All Heroes</td>\n",
       "      <td>All Damage Done</td>\n",
       "      <td>19059.67027</td>\n",
       "      <td>Chengdu Hunters</td>\n",
       "      <td>Guangzhou Charge</td>\n",
       "      <td>Chengdu Hunters</td>\n",
       "    </tr>\n",
       "  </tbody>\n",
       "</table>\n",
       "</div>"
      ],
      "text/plain": [
       "         hero        stat_name  stat_amount             team  \\\n",
       "0  All Heroes  All Damage Done  19059.67027  Chengdu Hunters   \n",
       "1  All Heroes  All Damage Done  19059.67027  Chengdu Hunters   \n",
       "2  All Heroes  All Damage Done  19059.67027  Chengdu Hunters   \n",
       "3  All Heroes  All Damage Done  19059.67027  Chengdu Hunters   \n",
       "4  All Heroes  All Damage Done  19059.67027  Chengdu Hunters   \n",
       "\n",
       "         map_winner        map_loser  \n",
       "0  Guangzhou Charge  Chengdu Hunters  \n",
       "1  Guangzhou Charge  Chengdu Hunters  \n",
       "2  Guangzhou Charge  Chengdu Hunters  \n",
       "3  Guangzhou Charge  Chengdu Hunters  \n",
       "4  Guangzhou Charge  Chengdu Hunters  "
      ]
     },
     "execution_count": 28,
     "metadata": {},
     "output_type": "execute_result"
    }
   ],
   "source": [
    "char_base_df = data[['hero', 'stat_name', 'stat_amount', 'team', 'map_winner', 'map_loser']]\n",
    "char_base_df.head()"
   ]
  },
  {
   "cell_type": "code",
   "execution_count": 58,
   "metadata": {},
   "outputs": [
    {
     "data": {
      "text/plain": [
       "San Francisco Shock       316630\n",
       "New York Excelsior        203575\n",
       "Vancouver Titans          170438\n",
       "Shanghai Dragons          168567\n",
       "Hangzhou Spark            165564\n",
       "London Spitfire           118131\n",
       "Los Angeles Gladiators     98844\n",
       "Seoul Dynasty              97898\n",
       "draw                       96733\n",
       "Atlanta Reign              91670\n",
       "Guangzhou Charge           66138\n",
       "Philadelphia Fusion        43062\n",
       "Chengdu Hunters            23640\n",
       "Name: map_winner, dtype: int64"
      ]
     },
     "execution_count": 58,
     "metadata": {},
     "output_type": "execute_result"
    }
   ],
   "source": [
    "char_base_df['map_winner'].value_counts()"
   ]
  },
  {
   "cell_type": "code",
   "execution_count": 34,
   "metadata": {
    "scrolled": true
   },
   "outputs": [
    {
     "name": "stderr",
     "output_type": "stream",
     "text": [
      "c:\\users\\pefle\\.venvs\\lewagon\\lib\\site-packages\\ipykernel_launcher.py:1: SettingWithCopyWarning: \n",
      "A value is trying to be set on a copy of a slice from a DataFrame.\n",
      "Try using .loc[row_indexer,col_indexer] = value instead\n",
      "\n",
      "See the caveats in the documentation: https://pandas.pydata.org/pandas-docs/stable/user_guide/indexing.html#returning-a-view-versus-a-copy\n",
      "  \"\"\"Entry point for launching an IPython kernel.\n"
     ]
    }
   ],
   "source": [
    "char_base_df['winner'] = (char_base_df['team'] == char_base_df['map_winner'])"
   ]
  },
  {
   "cell_type": "code",
   "execution_count": 36,
   "metadata": {},
   "outputs": [
    {
     "name": "stderr",
     "output_type": "stream",
     "text": [
      "c:\\users\\pefle\\.venvs\\lewagon\\lib\\site-packages\\ipykernel_launcher.py:1: SettingWithCopyWarning: \n",
      "A value is trying to be set on a copy of a slice from a DataFrame.\n",
      "Try using .loc[row_indexer,col_indexer] = value instead\n",
      "\n",
      "See the caveats in the documentation: https://pandas.pydata.org/pandas-docs/stable/user_guide/indexing.html#returning-a-view-versus-a-copy\n",
      "  \"\"\"Entry point for launching an IPython kernel.\n"
     ]
    }
   ],
   "source": [
    "char_base_df['w-l'] = char_base_df['winner']"
   ]
  },
  {
   "cell_type": "code",
   "execution_count": 38,
   "metadata": {},
   "outputs": [
    {
     "name": "stderr",
     "output_type": "stream",
     "text": [
      "c:\\users\\pefle\\.venvs\\lewagon\\lib\\site-packages\\ipykernel_launcher.py:1: SettingWithCopyWarning: \n",
      "A value is trying to be set on a copy of a slice from a DataFrame.\n",
      "Try using .loc[row_indexer,col_indexer] = value instead\n",
      "\n",
      "See the caveats in the documentation: https://pandas.pydata.org/pandas-docs/stable/user_guide/indexing.html#returning-a-view-versus-a-copy\n",
      "  \"\"\"Entry point for launching an IPython kernel.\n"
     ]
    }
   ],
   "source": [
    "char_base_df['w-l'] = char_base_df['w-l'].map({False : -1, True : 1})"
   ]
  },
  {
   "cell_type": "code",
   "execution_count": 39,
   "metadata": {},
   "outputs": [
    {
     "data": {
      "text/html": [
       "<div>\n",
       "<style scoped>\n",
       "    .dataframe tbody tr th:only-of-type {\n",
       "        vertical-align: middle;\n",
       "    }\n",
       "\n",
       "    .dataframe tbody tr th {\n",
       "        vertical-align: top;\n",
       "    }\n",
       "\n",
       "    .dataframe thead th {\n",
       "        text-align: right;\n",
       "    }\n",
       "</style>\n",
       "<table border=\"1\" class=\"dataframe\">\n",
       "  <thead>\n",
       "    <tr style=\"text-align: right;\">\n",
       "      <th></th>\n",
       "      <th>hero</th>\n",
       "      <th>stat_name</th>\n",
       "      <th>stat_amount</th>\n",
       "      <th>team</th>\n",
       "      <th>map_winner</th>\n",
       "      <th>map_loser</th>\n",
       "      <th>winner</th>\n",
       "      <th>w-l</th>\n",
       "    </tr>\n",
       "  </thead>\n",
       "  <tbody>\n",
       "    <tr>\n",
       "      <th>0</th>\n",
       "      <td>All Heroes</td>\n",
       "      <td>All Damage Done</td>\n",
       "      <td>19059.67027</td>\n",
       "      <td>Chengdu Hunters</td>\n",
       "      <td>Guangzhou Charge</td>\n",
       "      <td>Chengdu Hunters</td>\n",
       "      <td>False</td>\n",
       "      <td>-1</td>\n",
       "    </tr>\n",
       "    <tr>\n",
       "      <th>1</th>\n",
       "      <td>All Heroes</td>\n",
       "      <td>All Damage Done</td>\n",
       "      <td>19059.67027</td>\n",
       "      <td>Chengdu Hunters</td>\n",
       "      <td>Guangzhou Charge</td>\n",
       "      <td>Chengdu Hunters</td>\n",
       "      <td>False</td>\n",
       "      <td>-1</td>\n",
       "    </tr>\n",
       "    <tr>\n",
       "      <th>2</th>\n",
       "      <td>All Heroes</td>\n",
       "      <td>All Damage Done</td>\n",
       "      <td>19059.67027</td>\n",
       "      <td>Chengdu Hunters</td>\n",
       "      <td>Guangzhou Charge</td>\n",
       "      <td>Chengdu Hunters</td>\n",
       "      <td>False</td>\n",
       "      <td>-1</td>\n",
       "    </tr>\n",
       "    <tr>\n",
       "      <th>3</th>\n",
       "      <td>All Heroes</td>\n",
       "      <td>All Damage Done</td>\n",
       "      <td>19059.67027</td>\n",
       "      <td>Chengdu Hunters</td>\n",
       "      <td>Guangzhou Charge</td>\n",
       "      <td>Chengdu Hunters</td>\n",
       "      <td>False</td>\n",
       "      <td>-1</td>\n",
       "    </tr>\n",
       "    <tr>\n",
       "      <th>4</th>\n",
       "      <td>All Heroes</td>\n",
       "      <td>All Damage Done</td>\n",
       "      <td>19059.67027</td>\n",
       "      <td>Chengdu Hunters</td>\n",
       "      <td>Guangzhou Charge</td>\n",
       "      <td>Chengdu Hunters</td>\n",
       "      <td>False</td>\n",
       "      <td>-1</td>\n",
       "    </tr>\n",
       "  </tbody>\n",
       "</table>\n",
       "</div>"
      ],
      "text/plain": [
       "         hero        stat_name  stat_amount             team  \\\n",
       "0  All Heroes  All Damage Done  19059.67027  Chengdu Hunters   \n",
       "1  All Heroes  All Damage Done  19059.67027  Chengdu Hunters   \n",
       "2  All Heroes  All Damage Done  19059.67027  Chengdu Hunters   \n",
       "3  All Heroes  All Damage Done  19059.67027  Chengdu Hunters   \n",
       "4  All Heroes  All Damage Done  19059.67027  Chengdu Hunters   \n",
       "\n",
       "         map_winner        map_loser  winner  w-l  \n",
       "0  Guangzhou Charge  Chengdu Hunters   False   -1  \n",
       "1  Guangzhou Charge  Chengdu Hunters   False   -1  \n",
       "2  Guangzhou Charge  Chengdu Hunters   False   -1  \n",
       "3  Guangzhou Charge  Chengdu Hunters   False   -1  \n",
       "4  Guangzhou Charge  Chengdu Hunters   False   -1  "
      ]
     },
     "execution_count": 39,
     "metadata": {},
     "output_type": "execute_result"
    }
   ],
   "source": [
    "char_base_df.head()"
   ]
  },
  {
   "cell_type": "code",
   "execution_count": 66,
   "metadata": {},
   "outputs": [],
   "source": [
    "base_df = char_base_df.copy()"
   ]
  },
  {
   "cell_type": "code",
   "execution_count": 67,
   "metadata": {},
   "outputs": [
    {
     "data": {
      "text/html": [
       "<div>\n",
       "<style scoped>\n",
       "    .dataframe tbody tr th:only-of-type {\n",
       "        vertical-align: middle;\n",
       "    }\n",
       "\n",
       "    .dataframe tbody tr th {\n",
       "        vertical-align: top;\n",
       "    }\n",
       "\n",
       "    .dataframe thead th {\n",
       "        text-align: right;\n",
       "    }\n",
       "</style>\n",
       "<table border=\"1\" class=\"dataframe\">\n",
       "  <thead>\n",
       "    <tr style=\"text-align: right;\">\n",
       "      <th></th>\n",
       "      <th>hero</th>\n",
       "      <th>stat_name</th>\n",
       "      <th>stat_amount</th>\n",
       "      <th>team</th>\n",
       "      <th>map_winner</th>\n",
       "      <th>map_loser</th>\n",
       "      <th>winner</th>\n",
       "      <th>w-l</th>\n",
       "    </tr>\n",
       "  </thead>\n",
       "  <tbody>\n",
       "    <tr>\n",
       "      <th>0</th>\n",
       "      <td>All Heroes</td>\n",
       "      <td>All Damage Done</td>\n",
       "      <td>19059.67027</td>\n",
       "      <td>Chengdu Hunters</td>\n",
       "      <td>Guangzhou Charge</td>\n",
       "      <td>Chengdu Hunters</td>\n",
       "      <td>False</td>\n",
       "      <td>-1</td>\n",
       "    </tr>\n",
       "    <tr>\n",
       "      <th>1</th>\n",
       "      <td>All Heroes</td>\n",
       "      <td>All Damage Done</td>\n",
       "      <td>19059.67027</td>\n",
       "      <td>Chengdu Hunters</td>\n",
       "      <td>Guangzhou Charge</td>\n",
       "      <td>Chengdu Hunters</td>\n",
       "      <td>False</td>\n",
       "      <td>-1</td>\n",
       "    </tr>\n",
       "    <tr>\n",
       "      <th>2</th>\n",
       "      <td>All Heroes</td>\n",
       "      <td>All Damage Done</td>\n",
       "      <td>19059.67027</td>\n",
       "      <td>Chengdu Hunters</td>\n",
       "      <td>Guangzhou Charge</td>\n",
       "      <td>Chengdu Hunters</td>\n",
       "      <td>False</td>\n",
       "      <td>-1</td>\n",
       "    </tr>\n",
       "    <tr>\n",
       "      <th>3</th>\n",
       "      <td>All Heroes</td>\n",
       "      <td>All Damage Done</td>\n",
       "      <td>19059.67027</td>\n",
       "      <td>Chengdu Hunters</td>\n",
       "      <td>Guangzhou Charge</td>\n",
       "      <td>Chengdu Hunters</td>\n",
       "      <td>False</td>\n",
       "      <td>-1</td>\n",
       "    </tr>\n",
       "    <tr>\n",
       "      <th>4</th>\n",
       "      <td>All Heroes</td>\n",
       "      <td>All Damage Done</td>\n",
       "      <td>19059.67027</td>\n",
       "      <td>Chengdu Hunters</td>\n",
       "      <td>Guangzhou Charge</td>\n",
       "      <td>Chengdu Hunters</td>\n",
       "      <td>False</td>\n",
       "      <td>-1</td>\n",
       "    </tr>\n",
       "  </tbody>\n",
       "</table>\n",
       "</div>"
      ],
      "text/plain": [
       "         hero        stat_name  stat_amount             team  \\\n",
       "0  All Heroes  All Damage Done  19059.67027  Chengdu Hunters   \n",
       "1  All Heroes  All Damage Done  19059.67027  Chengdu Hunters   \n",
       "2  All Heroes  All Damage Done  19059.67027  Chengdu Hunters   \n",
       "3  All Heroes  All Damage Done  19059.67027  Chengdu Hunters   \n",
       "4  All Heroes  All Damage Done  19059.67027  Chengdu Hunters   \n",
       "\n",
       "         map_winner        map_loser  winner  w-l  \n",
       "0  Guangzhou Charge  Chengdu Hunters   False   -1  \n",
       "1  Guangzhou Charge  Chengdu Hunters   False   -1  \n",
       "2  Guangzhou Charge  Chengdu Hunters   False   -1  \n",
       "3  Guangzhou Charge  Chengdu Hunters   False   -1  \n",
       "4  Guangzhou Charge  Chengdu Hunters   False   -1  "
      ]
     },
     "execution_count": 67,
     "metadata": {},
     "output_type": "execute_result"
    }
   ],
   "source": [
    "base_df.head()"
   ]
  },
  {
   "cell_type": "code",
   "execution_count": 68,
   "metadata": {},
   "outputs": [
    {
     "data": {
      "text/plain": [
       "False    876654\n",
       "True     784237\n",
       "Name: winner, dtype: int64"
      ]
     },
     "execution_count": 68,
     "metadata": {},
     "output_type": "execute_result"
    }
   ],
   "source": [
    "base_df['winner'].value_counts()"
   ]
  },
  {
   "cell_type": "code",
   "execution_count": 95,
   "metadata": {},
   "outputs": [],
   "source": [
    "base_df.loc[base_df['map_winner'] == 'draw', 'w-l'] = 0"
   ]
  },
  {
   "cell_type": "code",
   "execution_count": 96,
   "metadata": {},
   "outputs": [
    {
     "data": {
      "text/plain": [
       " 1    784237\n",
       "-1    779921\n",
       " 0     96733\n",
       "Name: w-l, dtype: int64"
      ]
     },
     "execution_count": 96,
     "metadata": {},
     "output_type": "execute_result"
    }
   ],
   "source": [
    "base_df['w-l'].value_counts()"
   ]
  },
  {
   "cell_type": "code",
   "execution_count": null,
   "metadata": {},
   "outputs": [],
   "source": []
  }
 ],
 "metadata": {
  "kernelspec": {
   "display_name": "Python 3",
   "language": "python",
   "name": "python3"
  },
  "language_info": {
   "codemirror_mode": {
    "name": "ipython",
    "version": 3
   },
   "file_extension": ".py",
   "mimetype": "text/x-python",
   "name": "python",
   "nbconvert_exporter": "python",
   "pygments_lexer": "ipython3",
   "version": "3.7.7"
  }
 },
 "nbformat": 4,
 "nbformat_minor": 4
}
